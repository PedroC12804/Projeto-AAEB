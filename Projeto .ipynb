{
 "cells": [
  {
   "cell_type": "markdown",
   "metadata": {},
   "source": [
    "<table style=\"background-color:#F5F5F5;\" width=\"100%\">\n",
    "<tr><td style=\"background-color:#F5F5F5;\">    <tr><td>\n",
    "            <h2><center>Aprendizagem Automática em Engenharia Biomédica</center></h2>\n",
    "            <h3><center>1st Semester - 2024/2025</center></h3>\n",
    "            <h4><center>Universidade Nova de Lisboa - Faculdade de Ciências e Tecnologia</center></h4>\n",
    "</td></tr>\n",
    "    <tr><td><h2><b><center>Project</center></b></h2>\n",
    "    <h4><i><b><center>Predicting Cervical Cancer: A Machine Learning Approach Using Risk Factor Analysis \r\n",
    "</center></b></i></h4></td></tr>\n",
    "</table>"
   ]
  },
  {
   "cell_type": "markdown",
   "metadata": {},
   "source": [
    "\n",
    " <h3>Requesitos nos  modelos </h3>\n",
    " <li> Comparison of at least 3 models</li>\n",
    " <li>Cross-Validation</li>\n",
    " <li> Grid Search </li>\n",
    " <li> Results evaluation and discussion </li>\n",
    "\n",
    "\n",
    "<h3>Avaliação </h3>\n",
    "\n",
    " <li> Quality of coding (temos de tipo comentar e explicar tudo)</li>\n",
    " <li>Creativity</li>\n",
    " <li> Comparison with the state of the Art </li>\n",
    "\n"
   ]
  },
  {
   "cell_type": "markdown",
   "metadata": {},
   "source": [
    "<h3>1. Introduction</h3>"
   ]
  },
  {
   "cell_type": "markdown",
   "metadata": {},
   "source": [
    "Cervical cancer is the fourth most common cancer worldwide and a significant cause of mortality, particularly in low- and middle-income countries, where 94% of all deaths occur [1]. Although medicine has evolved, implementing cytology-based and other types of screening remains challenging in these countries due to the lack of healthcare infrastructure and trained professionals [2]. \n",
    "With that in mind, machine learning can be used as a helpful system for interpreting complex datasets and support clinical decision-making due to its strong data analysis capabilities [3].\n",
    "\n",
    "In clinical cases, the most common ways to detect this type of cancer include **the Cytology method, the biopsy, the Hinselmann test, and the Schiller test**. **The Cytology method** involves a microscopic analysis of tissue collected from the cervix to identify cell growth and its intensity. **The biopsy** is a surgical diagnostic procedure that involves collecting living tissue samples to determine if the sample is malignant or benign. **The Hinselmann test** is a visual inspection of the cervix using an iodine solution. However, the results of this test can vary depending on the examiner's expertise. **The Schiller test**, on the other hand, involves administering Lugol’s iodine for visual inspection of suspicious areas on the cervix. To reduce the high mortality rate of cervical cancer, it is crucial for women over 30 years of age to undergo regular screening tests every 3–5 years. In underdeveloped countries, however, frequent screening has been challenging due to limited medical infrastructure and expertise. Thus, we saw an opportunity for a biomedical solution that could renovate this practice and make it more accesible.\n",
    "\n",
    "\n",
    "Altough the initial approach was to use machine learning characteristics' combined with the risk factors, in order to predict the presence of the cancer, upon analyzing the data and being more familiarized with the problem itself , it occured to us we could rewire the project to predict the results of the main four tests used to detect cervical cancer (Hinselmann, Schille, Citology and Biopsy). This work could be relevant for the management of clinical resources. For example, a person exhibiting certain risk factors could be called in to undergo only two of the four exams, saving both financial and material resource. \n",
    "\n",
    "Nevertheless, in order to fulfill the initial approach, we decided to use a model to predict "
   ]
  },
  {
   "cell_type": "markdown",
   "metadata": {},
   "source": [
    " <h3>2. Data Preparation </h3>"
   ]
  },
  {
   "cell_type": "markdown",
   "metadata": {},
   "source": [
    "The data preparation phase is a critical step in the development of any machine learning model. This phase involves transforming raw data into a clean, organized, and usable format, ensuring it is suitable for analysis and modeling. The primary goal of data preparation is to address inconsistencies, fill in missing values, and convert data into a format that aligns with the requirements of machine learning algorithms."
   ]
  },
  {
   "cell_type": "markdown",
   "metadata": {},
   "source": [
    "<h4> 2.1 Data import </h4>"
   ]
  },
  {
   "cell_type": "code",
   "execution_count": 447,
   "metadata": {},
   "outputs": [],
   "source": [
    "#!pip install ucimlrepo\n",
    "import pandas as pd  \n",
    "import numpy as np \n",
    "import matplotlib.pyplot as plt \n",
    "from typing import Tuple\n",
    "from sklearn.model_selection import train_test_split\n",
    "import statistics"
   ]
  },
  {
   "cell_type": "code",
   "execution_count": 449,
   "metadata": {},
   "outputs": [
    {
     "name": "stdout",
     "output_type": "stream",
     "text": [
      "The dataset has 858 samples and 36 features. \n",
      "\n",
      "The first 10 rows are displayed below. \n",
      "\n",
      "\n"
     ]
    },
    {
     "data": {
      "text/html": [
       "<div>\n",
       "<style scoped>\n",
       "    .dataframe tbody tr th:only-of-type {\n",
       "        vertical-align: middle;\n",
       "    }\n",
       "\n",
       "    .dataframe tbody tr th {\n",
       "        vertical-align: top;\n",
       "    }\n",
       "\n",
       "    .dataframe thead th {\n",
       "        text-align: right;\n",
       "    }\n",
       "</style>\n",
       "<table border=\"1\" class=\"dataframe\">\n",
       "  <thead>\n",
       "    <tr style=\"text-align: right;\">\n",
       "      <th></th>\n",
       "      <th>Age</th>\n",
       "      <th>Number of sexual partners</th>\n",
       "      <th>First sexual intercourse</th>\n",
       "      <th>Num of pregnancies</th>\n",
       "      <th>Smokes</th>\n",
       "      <th>Smokes (years)</th>\n",
       "      <th>Smokes (packs/year)</th>\n",
       "      <th>Hormonal Contraceptives</th>\n",
       "      <th>Hormonal Contraceptives (years)</th>\n",
       "      <th>IUD</th>\n",
       "      <th>...</th>\n",
       "      <th>STDs: Time since first diagnosis</th>\n",
       "      <th>STDs: Time since last diagnosis</th>\n",
       "      <th>Dx:Cancer</th>\n",
       "      <th>Dx:CIN</th>\n",
       "      <th>Dx:HPV</th>\n",
       "      <th>Dx</th>\n",
       "      <th>Hinselmann</th>\n",
       "      <th>Schiller</th>\n",
       "      <th>Citology</th>\n",
       "      <th>Biopsy</th>\n",
       "    </tr>\n",
       "  </thead>\n",
       "  <tbody>\n",
       "    <tr>\n",
       "      <th>0</th>\n",
       "      <td>18</td>\n",
       "      <td>4.0</td>\n",
       "      <td>15.0</td>\n",
       "      <td>1.0</td>\n",
       "      <td>0.0</td>\n",
       "      <td>0.000000</td>\n",
       "      <td>0.0</td>\n",
       "      <td>0.0</td>\n",
       "      <td>0.0</td>\n",
       "      <td>0.0</td>\n",
       "      <td>...</td>\n",
       "      <td>NaN</td>\n",
       "      <td>NaN</td>\n",
       "      <td>0</td>\n",
       "      <td>0</td>\n",
       "      <td>0</td>\n",
       "      <td>0</td>\n",
       "      <td>0</td>\n",
       "      <td>0</td>\n",
       "      <td>0</td>\n",
       "      <td>0</td>\n",
       "    </tr>\n",
       "    <tr>\n",
       "      <th>1</th>\n",
       "      <td>15</td>\n",
       "      <td>1.0</td>\n",
       "      <td>14.0</td>\n",
       "      <td>1.0</td>\n",
       "      <td>0.0</td>\n",
       "      <td>0.000000</td>\n",
       "      <td>0.0</td>\n",
       "      <td>0.0</td>\n",
       "      <td>0.0</td>\n",
       "      <td>0.0</td>\n",
       "      <td>...</td>\n",
       "      <td>NaN</td>\n",
       "      <td>NaN</td>\n",
       "      <td>0</td>\n",
       "      <td>0</td>\n",
       "      <td>0</td>\n",
       "      <td>0</td>\n",
       "      <td>0</td>\n",
       "      <td>0</td>\n",
       "      <td>0</td>\n",
       "      <td>0</td>\n",
       "    </tr>\n",
       "    <tr>\n",
       "      <th>2</th>\n",
       "      <td>34</td>\n",
       "      <td>1.0</td>\n",
       "      <td>NaN</td>\n",
       "      <td>1.0</td>\n",
       "      <td>0.0</td>\n",
       "      <td>0.000000</td>\n",
       "      <td>0.0</td>\n",
       "      <td>0.0</td>\n",
       "      <td>0.0</td>\n",
       "      <td>0.0</td>\n",
       "      <td>...</td>\n",
       "      <td>NaN</td>\n",
       "      <td>NaN</td>\n",
       "      <td>0</td>\n",
       "      <td>0</td>\n",
       "      <td>0</td>\n",
       "      <td>0</td>\n",
       "      <td>0</td>\n",
       "      <td>0</td>\n",
       "      <td>0</td>\n",
       "      <td>0</td>\n",
       "    </tr>\n",
       "    <tr>\n",
       "      <th>3</th>\n",
       "      <td>52</td>\n",
       "      <td>5.0</td>\n",
       "      <td>16.0</td>\n",
       "      <td>4.0</td>\n",
       "      <td>1.0</td>\n",
       "      <td>37.000000</td>\n",
       "      <td>37.0</td>\n",
       "      <td>1.0</td>\n",
       "      <td>3.0</td>\n",
       "      <td>0.0</td>\n",
       "      <td>...</td>\n",
       "      <td>NaN</td>\n",
       "      <td>NaN</td>\n",
       "      <td>1</td>\n",
       "      <td>0</td>\n",
       "      <td>1</td>\n",
       "      <td>0</td>\n",
       "      <td>0</td>\n",
       "      <td>0</td>\n",
       "      <td>0</td>\n",
       "      <td>0</td>\n",
       "    </tr>\n",
       "    <tr>\n",
       "      <th>4</th>\n",
       "      <td>46</td>\n",
       "      <td>3.0</td>\n",
       "      <td>21.0</td>\n",
       "      <td>4.0</td>\n",
       "      <td>0.0</td>\n",
       "      <td>0.000000</td>\n",
       "      <td>0.0</td>\n",
       "      <td>1.0</td>\n",
       "      <td>15.0</td>\n",
       "      <td>0.0</td>\n",
       "      <td>...</td>\n",
       "      <td>NaN</td>\n",
       "      <td>NaN</td>\n",
       "      <td>0</td>\n",
       "      <td>0</td>\n",
       "      <td>0</td>\n",
       "      <td>0</td>\n",
       "      <td>0</td>\n",
       "      <td>0</td>\n",
       "      <td>0</td>\n",
       "      <td>0</td>\n",
       "    </tr>\n",
       "    <tr>\n",
       "      <th>5</th>\n",
       "      <td>42</td>\n",
       "      <td>3.0</td>\n",
       "      <td>23.0</td>\n",
       "      <td>2.0</td>\n",
       "      <td>0.0</td>\n",
       "      <td>0.000000</td>\n",
       "      <td>0.0</td>\n",
       "      <td>0.0</td>\n",
       "      <td>0.0</td>\n",
       "      <td>0.0</td>\n",
       "      <td>...</td>\n",
       "      <td>NaN</td>\n",
       "      <td>NaN</td>\n",
       "      <td>0</td>\n",
       "      <td>0</td>\n",
       "      <td>0</td>\n",
       "      <td>0</td>\n",
       "      <td>0</td>\n",
       "      <td>0</td>\n",
       "      <td>0</td>\n",
       "      <td>0</td>\n",
       "    </tr>\n",
       "    <tr>\n",
       "      <th>6</th>\n",
       "      <td>51</td>\n",
       "      <td>3.0</td>\n",
       "      <td>17.0</td>\n",
       "      <td>6.0</td>\n",
       "      <td>1.0</td>\n",
       "      <td>34.000000</td>\n",
       "      <td>3.4</td>\n",
       "      <td>0.0</td>\n",
       "      <td>0.0</td>\n",
       "      <td>1.0</td>\n",
       "      <td>...</td>\n",
       "      <td>NaN</td>\n",
       "      <td>NaN</td>\n",
       "      <td>0</td>\n",
       "      <td>0</td>\n",
       "      <td>0</td>\n",
       "      <td>0</td>\n",
       "      <td>1</td>\n",
       "      <td>1</td>\n",
       "      <td>0</td>\n",
       "      <td>1</td>\n",
       "    </tr>\n",
       "    <tr>\n",
       "      <th>7</th>\n",
       "      <td>26</td>\n",
       "      <td>1.0</td>\n",
       "      <td>26.0</td>\n",
       "      <td>3.0</td>\n",
       "      <td>0.0</td>\n",
       "      <td>0.000000</td>\n",
       "      <td>0.0</td>\n",
       "      <td>1.0</td>\n",
       "      <td>2.0</td>\n",
       "      <td>1.0</td>\n",
       "      <td>...</td>\n",
       "      <td>NaN</td>\n",
       "      <td>NaN</td>\n",
       "      <td>0</td>\n",
       "      <td>0</td>\n",
       "      <td>0</td>\n",
       "      <td>0</td>\n",
       "      <td>0</td>\n",
       "      <td>0</td>\n",
       "      <td>0</td>\n",
       "      <td>0</td>\n",
       "    </tr>\n",
       "    <tr>\n",
       "      <th>8</th>\n",
       "      <td>45</td>\n",
       "      <td>1.0</td>\n",
       "      <td>20.0</td>\n",
       "      <td>5.0</td>\n",
       "      <td>0.0</td>\n",
       "      <td>0.000000</td>\n",
       "      <td>0.0</td>\n",
       "      <td>0.0</td>\n",
       "      <td>0.0</td>\n",
       "      <td>0.0</td>\n",
       "      <td>...</td>\n",
       "      <td>NaN</td>\n",
       "      <td>NaN</td>\n",
       "      <td>1</td>\n",
       "      <td>0</td>\n",
       "      <td>1</td>\n",
       "      <td>1</td>\n",
       "      <td>0</td>\n",
       "      <td>0</td>\n",
       "      <td>0</td>\n",
       "      <td>0</td>\n",
       "    </tr>\n",
       "    <tr>\n",
       "      <th>9</th>\n",
       "      <td>44</td>\n",
       "      <td>3.0</td>\n",
       "      <td>15.0</td>\n",
       "      <td>NaN</td>\n",
       "      <td>1.0</td>\n",
       "      <td>1.266973</td>\n",
       "      <td>2.8</td>\n",
       "      <td>0.0</td>\n",
       "      <td>0.0</td>\n",
       "      <td>NaN</td>\n",
       "      <td>...</td>\n",
       "      <td>NaN</td>\n",
       "      <td>NaN</td>\n",
       "      <td>0</td>\n",
       "      <td>0</td>\n",
       "      <td>0</td>\n",
       "      <td>0</td>\n",
       "      <td>0</td>\n",
       "      <td>0</td>\n",
       "      <td>0</td>\n",
       "      <td>0</td>\n",
       "    </tr>\n",
       "  </tbody>\n",
       "</table>\n",
       "<p>10 rows × 36 columns</p>\n",
       "</div>"
      ],
      "text/plain": [
       "   Age  Number of sexual partners  First sexual intercourse  \\\n",
       "0   18                        4.0                      15.0   \n",
       "1   15                        1.0                      14.0   \n",
       "2   34                        1.0                       NaN   \n",
       "3   52                        5.0                      16.0   \n",
       "4   46                        3.0                      21.0   \n",
       "5   42                        3.0                      23.0   \n",
       "6   51                        3.0                      17.0   \n",
       "7   26                        1.0                      26.0   \n",
       "8   45                        1.0                      20.0   \n",
       "9   44                        3.0                      15.0   \n",
       "\n",
       "   Num of pregnancies  Smokes  Smokes (years)  Smokes (packs/year)  \\\n",
       "0                 1.0     0.0        0.000000                  0.0   \n",
       "1                 1.0     0.0        0.000000                  0.0   \n",
       "2                 1.0     0.0        0.000000                  0.0   \n",
       "3                 4.0     1.0       37.000000                 37.0   \n",
       "4                 4.0     0.0        0.000000                  0.0   \n",
       "5                 2.0     0.0        0.000000                  0.0   \n",
       "6                 6.0     1.0       34.000000                  3.4   \n",
       "7                 3.0     0.0        0.000000                  0.0   \n",
       "8                 5.0     0.0        0.000000                  0.0   \n",
       "9                 NaN     1.0        1.266973                  2.8   \n",
       "\n",
       "   Hormonal Contraceptives  Hormonal Contraceptives (years)  IUD  ...  \\\n",
       "0                      0.0                              0.0  0.0  ...   \n",
       "1                      0.0                              0.0  0.0  ...   \n",
       "2                      0.0                              0.0  0.0  ...   \n",
       "3                      1.0                              3.0  0.0  ...   \n",
       "4                      1.0                             15.0  0.0  ...   \n",
       "5                      0.0                              0.0  0.0  ...   \n",
       "6                      0.0                              0.0  1.0  ...   \n",
       "7                      1.0                              2.0  1.0  ...   \n",
       "8                      0.0                              0.0  0.0  ...   \n",
       "9                      0.0                              0.0  NaN  ...   \n",
       "\n",
       "   STDs: Time since first diagnosis  STDs: Time since last diagnosis  \\\n",
       "0                               NaN                              NaN   \n",
       "1                               NaN                              NaN   \n",
       "2                               NaN                              NaN   \n",
       "3                               NaN                              NaN   \n",
       "4                               NaN                              NaN   \n",
       "5                               NaN                              NaN   \n",
       "6                               NaN                              NaN   \n",
       "7                               NaN                              NaN   \n",
       "8                               NaN                              NaN   \n",
       "9                               NaN                              NaN   \n",
       "\n",
       "   Dx:Cancer  Dx:CIN  Dx:HPV  Dx  Hinselmann  Schiller  Citology  Biopsy  \n",
       "0          0       0       0   0           0         0         0       0  \n",
       "1          0       0       0   0           0         0         0       0  \n",
       "2          0       0       0   0           0         0         0       0  \n",
       "3          1       0       1   0           0         0         0       0  \n",
       "4          0       0       0   0           0         0         0       0  \n",
       "5          0       0       0   0           0         0         0       0  \n",
       "6          0       0       0   0           1         1         0       1  \n",
       "7          0       0       0   0           0         0         0       0  \n",
       "8          1       0       1   1           0         0         0       0  \n",
       "9          0       0       0   0           0         0         0       0  \n",
       "\n",
       "[10 rows x 36 columns]"
      ]
     },
     "execution_count": 449,
     "metadata": {},
     "output_type": "execute_result"
    }
   ],
   "source": [
    "from ucimlrepo import fetch_ucirepo \n",
    "  \n",
    "# fetch dataset \n",
    "cervical_cancer_risk_factors = fetch_ucirepo(id=383) \n",
    "  \n",
    "# data (as pandas dataframes) \n",
    "df_cervical_cancer = cervical_cancer_risk_factors.data.features \n",
    "\n",
    "#Getting dataset dimensions\n",
    "n_rows = df_cervical_cancer.shape[0]\n",
    "n_features = df_cervical_cancer.shape[1]\n",
    "print('The dataset has {} samples and {} features. \\n'.format(n_rows, n_features))\n",
    "\n",
    "#Showing the first 10 rows of the dataset\n",
    "print('The first 10 rows are displayed below. \\n\\n')\n",
    "df_cervical_cancer.head(10)\n"
   ]
  },
  {
   "cell_type": "markdown",
   "metadata": {},
   "source": [
    "<h5> 2.1.1 Data types </h5>\n",
    "<p style=\"font-size:15px;\"> The data is divided in integer values such as age and number of diagnosis, floats, like the age at which the patient had its first sexual intercourse and a binary classification (0 as false and 1 as true) to evaluate the results of the tests, presence of STD's etc. </p>"
   ]
  },
  {
   "cell_type": "code",
   "execution_count": 451,
   "metadata": {},
   "outputs": [
    {
     "name": "stdout",
     "output_type": "stream",
     "text": [
      "Age                                     int64\n",
      "Number of sexual partners             float64\n",
      "First sexual intercourse              float64\n",
      "Num of pregnancies                    float64\n",
      "Smokes                                float64\n",
      "Smokes (years)                        float64\n",
      "Smokes (packs/year)                   float64\n",
      "Hormonal Contraceptives               float64\n",
      "Hormonal Contraceptives (years)       float64\n",
      "IUD                                   float64\n",
      "IUD (years)                           float64\n",
      "STDs                                  float64\n",
      "STDs (number)                         float64\n",
      "STDs:condylomatosis                   float64\n",
      "STDs:cervical condylomatosis          float64\n",
      "STDs:vaginal condylomatosis           float64\n",
      "STDs:vulvo-perineal condylomatosis    float64\n",
      "STDs:syphilis                         float64\n",
      "STDs:pelvic inflammatory disease      float64\n",
      "STDs:genital herpes                   float64\n",
      "STDs:molluscum contagiosum            float64\n",
      "STDs:AIDS                             float64\n",
      "STDs:HIV                              float64\n",
      "STDs:Hepatitis B                      float64\n",
      "STDs:HPV                              float64\n",
      "STDs: Number of diagnosis               int64\n",
      "STDs: Time since first diagnosis      float64\n",
      "STDs: Time since last diagnosis       float64\n",
      "Dx:Cancer                               int64\n",
      "Dx:CIN                                  int64\n",
      "Dx:HPV                                  int64\n",
      "Dx                                      int64\n",
      "Hinselmann                              int64\n",
      "Schiller                                int64\n",
      "Citology                                int64\n",
      "Biopsy                                  int64\n",
      "dtype: object\n"
     ]
    }
   ],
   "source": [
    "print(df_cervical_cancer.dtypes)"
   ]
  },
  {
   "cell_type": "code",
   "execution_count": 452,
   "metadata": {},
   "outputs": [
    {
     "data": {
      "text/html": [
       "<div>\n",
       "<style scoped>\n",
       "    .dataframe tbody tr th:only-of-type {\n",
       "        vertical-align: middle;\n",
       "    }\n",
       "\n",
       "    .dataframe tbody tr th {\n",
       "        vertical-align: top;\n",
       "    }\n",
       "\n",
       "    .dataframe thead th {\n",
       "        text-align: right;\n",
       "    }\n",
       "</style>\n",
       "<table border=\"1\" class=\"dataframe\">\n",
       "  <thead>\n",
       "    <tr style=\"text-align: right;\">\n",
       "      <th></th>\n",
       "      <th>Smokes</th>\n",
       "      <th>Hormonal Contraceptives</th>\n",
       "      <th>IUD</th>\n",
       "      <th>STDs</th>\n",
       "      <th>STDs:condylomatosis</th>\n",
       "      <th>STDs:cervical condylomatosis</th>\n",
       "      <th>STDs:vaginal condylomatosis</th>\n",
       "      <th>STDs:vulvo-perineal condylomatosis</th>\n",
       "      <th>STDs:syphilis</th>\n",
       "      <th>STDs:pelvic inflammatory disease</th>\n",
       "      <th>...</th>\n",
       "      <th>STDs:Hepatitis B</th>\n",
       "      <th>STDs:HPV</th>\n",
       "      <th>Dx:Cancer</th>\n",
       "      <th>Dx:CIN</th>\n",
       "      <th>Dx:HPV</th>\n",
       "      <th>Dx</th>\n",
       "      <th>Hinselmann</th>\n",
       "      <th>Schiller</th>\n",
       "      <th>Citology</th>\n",
       "      <th>Biopsy</th>\n",
       "    </tr>\n",
       "  </thead>\n",
       "  <tbody>\n",
       "    <tr>\n",
       "      <th>count</th>\n",
       "      <td>845.0</td>\n",
       "      <td>750.0</td>\n",
       "      <td>741.0</td>\n",
       "      <td>753.0</td>\n",
       "      <td>753.0</td>\n",
       "      <td>753.0</td>\n",
       "      <td>753.0</td>\n",
       "      <td>753.0</td>\n",
       "      <td>753.0</td>\n",
       "      <td>753.0</td>\n",
       "      <td>...</td>\n",
       "      <td>753.0</td>\n",
       "      <td>753.0</td>\n",
       "      <td>858.0</td>\n",
       "      <td>858.0</td>\n",
       "      <td>858.0</td>\n",
       "      <td>858.0</td>\n",
       "      <td>858.0</td>\n",
       "      <td>858.0</td>\n",
       "      <td>858.0</td>\n",
       "      <td>858.0</td>\n",
       "    </tr>\n",
       "  </tbody>\n",
       "</table>\n",
       "<p>1 rows × 24 columns</p>\n",
       "</div>"
      ],
      "text/plain": [
       "       Smokes  Hormonal Contraceptives    IUD   STDs  STDs:condylomatosis  \\\n",
       "count   845.0                    750.0  741.0  753.0                753.0   \n",
       "\n",
       "       STDs:cervical condylomatosis  STDs:vaginal condylomatosis  \\\n",
       "count                         753.0                        753.0   \n",
       "\n",
       "       STDs:vulvo-perineal condylomatosis  STDs:syphilis  \\\n",
       "count                               753.0          753.0   \n",
       "\n",
       "       STDs:pelvic inflammatory disease  ...  STDs:Hepatitis B  STDs:HPV  \\\n",
       "count                             753.0  ...             753.0     753.0   \n",
       "\n",
       "       Dx:Cancer  Dx:CIN  Dx:HPV     Dx  Hinselmann  Schiller  Citology  \\\n",
       "count      858.0   858.0   858.0  858.0       858.0     858.0     858.0   \n",
       "\n",
       "       Biopsy  \n",
       "count   858.0  \n",
       "\n",
       "[1 rows x 24 columns]"
      ]
     },
     "execution_count": 452,
     "metadata": {},
     "output_type": "execute_result"
    }
   ],
   "source": [
    "#Get all the columns with a binary classification \n",
    "binary_columns = df_cervical_cancer.loc[:, (df_cervical_cancer.isin([0, 1]) | df_cervical_cancer.isna()).all()]\n",
    "binary_columns.describe().iloc[[0]]"
   ]
  },
  {
   "cell_type": "code",
   "execution_count": 453,
   "metadata": {},
   "outputs": [
    {
     "data": {
      "text/html": [
       "<div>\n",
       "<style scoped>\n",
       "    .dataframe tbody tr th:only-of-type {\n",
       "        vertical-align: middle;\n",
       "    }\n",
       "\n",
       "    .dataframe tbody tr th {\n",
       "        vertical-align: top;\n",
       "    }\n",
       "\n",
       "    .dataframe thead th {\n",
       "        text-align: right;\n",
       "    }\n",
       "</style>\n",
       "<table border=\"1\" class=\"dataframe\">\n",
       "  <thead>\n",
       "    <tr style=\"text-align: right;\">\n",
       "      <th></th>\n",
       "      <th>Age</th>\n",
       "      <th>Number of sexual partners</th>\n",
       "      <th>First sexual intercourse</th>\n",
       "      <th>Num of pregnancies</th>\n",
       "      <th>Smokes (years)</th>\n",
       "      <th>Smokes (packs/year)</th>\n",
       "      <th>Hormonal Contraceptives (years)</th>\n",
       "      <th>IUD (years)</th>\n",
       "      <th>STDs (number)</th>\n",
       "      <th>STDs: Number of diagnosis</th>\n",
       "      <th>STDs: Time since first diagnosis</th>\n",
       "      <th>STDs: Time since last diagnosis</th>\n",
       "    </tr>\n",
       "  </thead>\n",
       "  <tbody>\n",
       "    <tr>\n",
       "      <th>mean</th>\n",
       "      <td>26.820513</td>\n",
       "      <td>2.527644</td>\n",
       "      <td>16.995300</td>\n",
       "      <td>2.275561</td>\n",
       "      <td>1.219721</td>\n",
       "      <td>0.453144</td>\n",
       "      <td>2.256419</td>\n",
       "      <td>0.514804</td>\n",
       "      <td>0.176627</td>\n",
       "      <td>0.087413</td>\n",
       "      <td>6.140845</td>\n",
       "      <td>5.816901</td>\n",
       "    </tr>\n",
       "    <tr>\n",
       "      <th>std</th>\n",
       "      <td>8.497948</td>\n",
       "      <td>1.667760</td>\n",
       "      <td>2.803355</td>\n",
       "      <td>1.447414</td>\n",
       "      <td>4.089017</td>\n",
       "      <td>2.226610</td>\n",
       "      <td>3.764254</td>\n",
       "      <td>1.943089</td>\n",
       "      <td>0.561993</td>\n",
       "      <td>0.302545</td>\n",
       "      <td>5.895024</td>\n",
       "      <td>5.755271</td>\n",
       "    </tr>\n",
       "    <tr>\n",
       "      <th>min</th>\n",
       "      <td>13.000000</td>\n",
       "      <td>1.000000</td>\n",
       "      <td>10.000000</td>\n",
       "      <td>0.000000</td>\n",
       "      <td>0.000000</td>\n",
       "      <td>0.000000</td>\n",
       "      <td>0.000000</td>\n",
       "      <td>0.000000</td>\n",
       "      <td>0.000000</td>\n",
       "      <td>0.000000</td>\n",
       "      <td>1.000000</td>\n",
       "      <td>1.000000</td>\n",
       "    </tr>\n",
       "    <tr>\n",
       "      <th>max</th>\n",
       "      <td>84.000000</td>\n",
       "      <td>28.000000</td>\n",
       "      <td>32.000000</td>\n",
       "      <td>11.000000</td>\n",
       "      <td>37.000000</td>\n",
       "      <td>37.000000</td>\n",
       "      <td>30.000000</td>\n",
       "      <td>19.000000</td>\n",
       "      <td>4.000000</td>\n",
       "      <td>3.000000</td>\n",
       "      <td>22.000000</td>\n",
       "      <td>22.000000</td>\n",
       "    </tr>\n",
       "  </tbody>\n",
       "</table>\n",
       "</div>"
      ],
      "text/plain": [
       "            Age  Number of sexual partners  First sexual intercourse  \\\n",
       "mean  26.820513                   2.527644                 16.995300   \n",
       "std    8.497948                   1.667760                  2.803355   \n",
       "min   13.000000                   1.000000                 10.000000   \n",
       "max   84.000000                  28.000000                 32.000000   \n",
       "\n",
       "      Num of pregnancies  Smokes (years)  Smokes (packs/year)  \\\n",
       "mean            2.275561        1.219721             0.453144   \n",
       "std             1.447414        4.089017             2.226610   \n",
       "min             0.000000        0.000000             0.000000   \n",
       "max            11.000000       37.000000            37.000000   \n",
       "\n",
       "      Hormonal Contraceptives (years)  IUD (years)  STDs (number)  \\\n",
       "mean                         2.256419     0.514804       0.176627   \n",
       "std                          3.764254     1.943089       0.561993   \n",
       "min                          0.000000     0.000000       0.000000   \n",
       "max                         30.000000    19.000000       4.000000   \n",
       "\n",
       "      STDs: Number of diagnosis  STDs: Time since first diagnosis  \\\n",
       "mean                   0.087413                          6.140845   \n",
       "std                    0.302545                          5.895024   \n",
       "min                    0.000000                          1.000000   \n",
       "max                    3.000000                         22.000000   \n",
       "\n",
       "      STDs: Time since last diagnosis  \n",
       "mean                         5.816901  \n",
       "std                          5.755271  \n",
       "min                          1.000000  \n",
       "max                         22.000000  "
      ]
     },
     "execution_count": 453,
     "metadata": {},
     "output_type": "execute_result"
    }
   ],
   "source": [
    "#Get the columns with continuos values\n",
    "continuous_columns = df_cervical_cancer.drop(binary_columns.columns, axis=1)\n",
    "continuous_columns.describe().iloc[[1,2,3,7]]\n"
   ]
  },
  {
   "cell_type": "code",
   "execution_count": 454,
   "metadata": {},
   "outputs": [
    {
     "data": {
      "text/plain": [
       "Age                                     0\n",
       "Number of sexual partners              26\n",
       "First sexual intercourse                7\n",
       "Num of pregnancies                     56\n",
       "Smokes                                 13\n",
       "Smokes (years)                         13\n",
       "Smokes (packs/year)                    13\n",
       "Hormonal Contraceptives               108\n",
       "Hormonal Contraceptives (years)       108\n",
       "IUD                                   117\n",
       "IUD (years)                           117\n",
       "STDs                                  105\n",
       "STDs (number)                         105\n",
       "STDs:condylomatosis                   105\n",
       "STDs:cervical condylomatosis          105\n",
       "STDs:vaginal condylomatosis           105\n",
       "STDs:vulvo-perineal condylomatosis    105\n",
       "STDs:syphilis                         105\n",
       "STDs:pelvic inflammatory disease      105\n",
       "STDs:genital herpes                   105\n",
       "STDs:molluscum contagiosum            105\n",
       "STDs:AIDS                             105\n",
       "STDs:HIV                              105\n",
       "STDs:Hepatitis B                      105\n",
       "STDs:HPV                              105\n",
       "STDs: Number of diagnosis               0\n",
       "STDs: Time since first diagnosis      787\n",
       "STDs: Time since last diagnosis       787\n",
       "Dx:Cancer                               0\n",
       "Dx:CIN                                  0\n",
       "Dx:HPV                                  0\n",
       "Dx                                      0\n",
       "Hinselmann                              0\n",
       "Schiller                                0\n",
       "Citology                                0\n",
       "Biopsy                                  0\n",
       "dtype: int64"
      ]
     },
     "execution_count": 454,
     "metadata": {},
     "output_type": "execute_result"
    }
   ],
   "source": [
    "df_cervical_cancer.isnull().sum()"
   ]
  },
  {
   "cell_type": "markdown",
   "metadata": {},
   "source": [
    "<p style=\"font-size:15px;\"> As colunas  'STDs: Time since first diagnosis' e 'STDs: Time since last diagnosis' have a lot of missing values  então vamos droppar (n me apetece escrever em ingles)</p>"
   ]
  },
  {
   "cell_type": "code",
   "execution_count": 456,
   "metadata": {},
   "outputs": [],
   "source": [
    "df_cervical_cancer= df_cervical_cancer.drop(['STDs: Time since first diagnosis','STDs: Time since last diagnosis'], axis=1)\n"
   ]
  },
  {
   "cell_type": "code",
   "execution_count": 457,
   "metadata": {},
   "outputs": [
    {
     "name": "stdout",
     "output_type": "stream",
     "text": [
      "Age                                     0\n",
      "Number of sexual partners               0\n",
      "First sexual intercourse                0\n",
      "Num of pregnancies                     16\n",
      "Smokes                                722\n",
      "Smokes (years)                        722\n",
      "Smokes (packs/year)                   722\n",
      "Hormonal Contraceptives               269\n",
      "Hormonal Contraceptives (years)       269\n",
      "IUD                                   658\n",
      "IUD (years)                           658\n",
      "STDs                                  674\n",
      "STDs (number)                         674\n",
      "STDs:condylomatosis                   709\n",
      "STDs:cervical condylomatosis          753\n",
      "STDs:vaginal condylomatosis           749\n",
      "STDs:vulvo-perineal condylomatosis    710\n",
      "STDs:syphilis                         735\n",
      "STDs:pelvic inflammatory disease      752\n",
      "STDs:genital herpes                   752\n",
      "STDs:molluscum contagiosum            752\n",
      "STDs:AIDS                             753\n",
      "STDs:HIV                              735\n",
      "STDs:Hepatitis B                      752\n",
      "STDs:HPV                              751\n",
      "STDs: Number of diagnosis             787\n",
      "Dx:Cancer                             840\n",
      "Dx:CIN                                849\n",
      "Dx:HPV                                840\n",
      "Dx                                    834\n",
      "Hinselmann                            823\n",
      "Schiller                              784\n",
      "Citology                              814\n",
      "Biopsy                                803\n",
      "dtype: int64\n"
     ]
    }
   ],
   "source": [
    "zero_per_columns = (df_cervical_cancer == 0).sum()\n",
    "print(zero_per_columns)"
   ]
  },
  {
   "cell_type": "markdown",
   "metadata": {},
   "source": [
    "<p style=\"font-size:15px;\">STDs:AIDS e STDs:cervical condylomatosis  têm todos os valores = 0 pelo q vamos dropar  </p>"
   ]
  },
  {
   "cell_type": "code",
   "execution_count": 506,
   "metadata": {},
   "outputs": [],
   "source": [
    "#df_cervical_cancer= df_cervical_cancer.drop(['STDs:AIDS','STDs:cervical condylomatosis'], axis=1)"
   ]
  },
  {
   "cell_type": "code",
   "execution_count": 460,
   "metadata": {},
   "outputs": [
    {
     "data": {
      "text/plain": [
       "Age                                     0\n",
       "Number of sexual partners              26\n",
       "First sexual intercourse                7\n",
       "Num of pregnancies                     56\n",
       "Smokes                                 13\n",
       "Smokes (years)                         13\n",
       "Smokes (packs/year)                    13\n",
       "Hormonal Contraceptives               108\n",
       "Hormonal Contraceptives (years)       108\n",
       "IUD                                   117\n",
       "IUD (years)                           117\n",
       "STDs                                  105\n",
       "STDs (number)                         105\n",
       "STDs:condylomatosis                   105\n",
       "STDs:vaginal condylomatosis           105\n",
       "STDs:vulvo-perineal condylomatosis    105\n",
       "STDs:syphilis                         105\n",
       "STDs:pelvic inflammatory disease      105\n",
       "STDs:genital herpes                   105\n",
       "STDs:molluscum contagiosum            105\n",
       "STDs:HIV                              105\n",
       "STDs:Hepatitis B                      105\n",
       "STDs:HPV                              105\n",
       "STDs: Number of diagnosis               0\n",
       "Dx:Cancer                               0\n",
       "Dx:CIN                                  0\n",
       "Dx:HPV                                  0\n",
       "Dx                                      0\n",
       "Hinselmann                              0\n",
       "Schiller                                0\n",
       "Citology                                0\n",
       "Biopsy                                  0\n",
       "dtype: int64"
      ]
     },
     "execution_count": 460,
     "metadata": {},
     "output_type": "execute_result"
    }
   ],
   "source": [
    "df_cervical_cancer.isnull().sum()"
   ]
  },
  {
   "cell_type": "markdown",
   "metadata": {},
   "source": [
    "<p style=\"font-size:15px;\"> Como podemos observar, existem diversas variáveis com missing values pelo que em colunas com valores demograficos, tal como 'Number of sexual partners', 'Number of pregrancies' e 'Hormonal contraceptives', estes serão substituidos pela média da coluna  </p> (artigo)\n"
   ]
  },
  {
   "cell_type": "code",
   "execution_count": 462,
   "metadata": {},
   "outputs": [
    {
     "data": {
      "text/plain": [
       "Age                                     0\n",
       "Number of sexual partners               0\n",
       "First sexual intercourse                0\n",
       "Num of pregnancies                      0\n",
       "Smokes                                  0\n",
       "Smokes (years)                          0\n",
       "Smokes (packs/year)                     0\n",
       "Hormonal Contraceptives                 0\n",
       "Hormonal Contraceptives (years)         0\n",
       "IUD                                     0\n",
       "IUD (years)                             0\n",
       "STDs                                  105\n",
       "STDs (number)                         105\n",
       "STDs:condylomatosis                   105\n",
       "STDs:vaginal condylomatosis           105\n",
       "STDs:vulvo-perineal condylomatosis    105\n",
       "STDs:syphilis                         105\n",
       "STDs:pelvic inflammatory disease      105\n",
       "STDs:genital herpes                   105\n",
       "STDs:molluscum contagiosum            105\n",
       "STDs:HIV                              105\n",
       "STDs:Hepatitis B                      105\n",
       "STDs:HPV                              105\n",
       "STDs: Number of diagnosis               0\n",
       "Dx:Cancer                               0\n",
       "Dx:CIN                                  0\n",
       "Dx:HPV                                  0\n",
       "Dx                                      0\n",
       "Hinselmann                              0\n",
       "Schiller                                0\n",
       "Citology                                0\n",
       "Biopsy                                  0\n",
       "dtype: int64"
      ]
     },
     "execution_count": 462,
     "metadata": {},
     "output_type": "execute_result"
    }
   ],
   "source": [
    "list_nonbinary = ['Number of sexual partners', 'First sexual intercourse' ,'Num of pregnancies', 'Smokes (years)', 'Smokes (packs/year)', 'Hormonal Contraceptives (years)','IUD (years)'] \n",
    "list_binary = ['Smokes','Hormonal Contraceptives', 'IUD']\n",
    "\n",
    "for col in list_nonbinary:\n",
    "    mean = df_cervical_cancer[col].mean()\n",
    "    df_cervical_cancer[col] = df_cervical_cancer[col].fillna(mean)\n",
    "    \n",
    "for col in list_binary:\n",
    "    mean = df_cervical_cancer[col].mean()\n",
    "    df_cervical_cancer[col] = df_cervical_cancer[col].fillna(round(mean))\n",
    "    \n",
    "df_cervical_cancer.isnull().sum()\n"
   ]
  },
  {
   "cell_type": "markdown",
   "metadata": {},
   "source": [
    "<p style=\"font-size:15px;\"> Agora vamos tirar os outros que têm NaN  </p> \n"
   ]
  },
  {
   "cell_type": "code",
   "execution_count": 464,
   "metadata": {},
   "outputs": [
    {
     "name": "stdout",
     "output_type": "stream",
     "text": [
      "753\n"
     ]
    }
   ],
   "source": [
    "df_cervical_cancer.dropna(inplace = True)\n",
    "print(df_cervical_cancer.shape[0])"
   ]
  },
  {
   "cell_type": "markdown",
   "metadata": {},
   "source": [
    "<p style=\"font-size:15px;\"> Agora vamos verificar se os dados das target variables são desbalanceados  </p> "
   ]
  },
  {
   "cell_type": "code",
   "execution_count": 466,
   "metadata": {},
   "outputs": [
    {
     "name": "stdout",
     "output_type": "stream",
     "text": [
      "The proportion of positive for each target variable, in percentage, is: \n",
      "\n",
      "Hinselmann     4.874652\n",
      "Schiller      10.735294\n",
      "Citology       5.758427\n",
      "Biopsy         7.571429\n",
      "dtype: float64\n"
     ]
    },
    {
     "data": {
      "text/plain": [
       "<matplotlib.legend.Legend at 0x24082dda6c0>"
      ]
     },
     "execution_count": 466,
     "metadata": {},
     "output_type": "execute_result"
    },
    {
     "data": {
      "image/png": "[encoded data removed]",
      "text/plain": [
       "<Figure size 640x480 with 1 Axes>"
      ]
     },
     "metadata": {},
     "output_type": "display_data"
    }
   ],
   "source": [
    "targets = ['Hinselmann', 'Schiller', 'Citology', 'Biopsy']\n",
    "target_variables = df_cervical_cancer[targets]\n",
    "\n",
    "negative_per_target = (target_variables == 0).sum()\n",
    "\n",
    "positive_per_target = (target_variables == 1).sum()\n",
    "\n",
    "proportion = (positive_per_target/negative_per_target)*100\n",
    "\n",
    "print('The proportion of positive for each target variable, in percentage, is: \\n\\n{}'.format(proportion))\n",
    "\n",
    "# Plotting\n",
    "x = np.arange(len(targets))  # Positions for the bars\n",
    "width = 0.4  # Width of each bar\n",
    "\n",
    "plt.bar(x - width/2, negative_per_target, width, label='Negative', color='skyblue')\n",
    "plt.bar(x + width/2, positive_per_target, width, label='Positive', color='salmon')\n",
    "\n",
    "# Adding labels and title\n",
    "plt.xlabel('Target Variables')\n",
    "plt.ylabel('Counts')\n",
    "plt.title('Positive and Negative Results per Target Variable')\n",
    "plt.xticks(x, targets)\n",
    "plt.legend()\n"
   ]
  },
  {
   "cell_type": "markdown",
   "metadata": {},
   "source": [
    "<p style=\"font-size:15px;\">São bué, vamos criar dados para balancear usando o smote </p> "
   ]
  },
  {
   "cell_type": "code",
   "execution_count": 470,
   "metadata": {},
   "outputs": [
    {
     "name": "stdout",
     "output_type": "stream",
     "text": [
      "Features: Smokes (years) and Smokes have a correlation of 0.72\n",
      "Features: Smokes (packs/year) and Smokes (years) have a correlation of 0.72\n",
      "Features: IUD (years) and IUD have a correlation of 0.75\n",
      "Features: STDs (number) and STDs have a correlation of 0.92\n",
      "Features: STDs:condylomatosis and STDs have a correlation of 0.73\n",
      "Features: STDs:condylomatosis and STDs (number) have a correlation of 0.90\n",
      "Features: STDs:vulvo-perineal condylomatosis and STDs have a correlation of 0.72\n",
      "Features: STDs:vulvo-perineal condylomatosis and STDs (number) have a correlation of 0.89\n",
      "Features: STDs:vulvo-perineal condylomatosis and STDs:condylomatosis have a correlation of 0.99\n",
      "Features: STDs: Number of diagnosis and STDs have a correlation of 0.91\n",
      "Features: STDs: Number of diagnosis and STDs (number) have a correlation of 0.90\n",
      "Features: Dx:HPV and Dx:Cancer have a correlation of 0.89\n"
     ]
    }
   ],
   "source": [
    "#Correlação entre as target variables\n",
    "import seaborn as sns\n",
    "import matplotlib.pyplot as plt\n",
    "df_corr = df_cervical_cancer.drop(['Hinselmann', 'Schiller', 'Citology', 'Biopsy'],axis=1).corr()\n",
    "\n",
    "threshold = 0.7\n",
    "df_corr_filtered = df_corr[df_corr > threshold]\n",
    "\n",
    "pairs = []\n",
    "for i in range(len(df_corr_filtered.columns)):\n",
    "    for j in range(i):\n",
    "        if df_corr_filtered.iloc[i, j] > threshold and i!=j:\n",
    "            pairs.append((df_corr_filtered.columns[i], df_corr_filtered.columns[j], df_corr_filtered.iloc[i, j]))\n",
    "\n",
    "# Show the pairs and their correlation values\n",
    "for pair in pairs:\n",
    "    print(f\"Features: {pair[0]} and {pair[1]} have a correlation of {pair[2]:.2f}\")\n"
   ]
  },
  {
   "cell_type": "code",
   "execution_count": 526,
   "metadata": {},
   "outputs": [],
   "source": [
    "from sklearn.preprocessing import MinMaxScaler\n",
    "\n",
    "Y = df_cervical_cancer[targets]\n",
    "X = df_cervical_cancer.drop(targets,axis=1)\n",
    "\n",
    "X_train, X_test, y_train, y_test = train_test_split(X, Y, test_size=0.2, random_state=42)\n",
    "\n",
    "min_max_scaler = MinMaxScaler(feature_range=(0, 1))\n",
    "\n",
    "# fit the scaler to train set and scale the train data (this will return a numpy.array)\n",
    "X_train_minmax = min_max_scaler.fit_transform(X_train)\n",
    "\n",
    "# scale the test data using the scaler that was fitted on the training data\n",
    "X_test_minmax = min_max_scaler.transform(X_test)\n",
    "\n",
    "# converting the training and test data back to a pandas.DataFrame (using the column names of the X DataFrame)\n",
    "X_train_minmax = pd.DataFrame(X_train_minmax, columns=X.columns)\n",
    "X_test_minmax = pd.DataFrame(X_test_minmax, columns=X.columns)\n",
    "\n",
    "\n"
   ]
  },
  {
   "cell_type": "code",
   "execution_count": 495,
   "metadata": {},
   "outputs": [],
   "source": [
    "#SMUT"
   ]
  },
  {
   "cell_type": "markdown",
   "metadata": {},
   "source": [
    " <h3>3. Model Training </h3>"
   ]
  },
  {
   "cell_type": "code",
   "execution_count": 514,
   "metadata": {},
   "outputs": [],
   "source": [
    "from sklearn.model_selection import cross_val_score\n",
    "from sklearn.metrics import precision_score\n",
    "from sklearn.metrics import recall_score\n",
    "from sklearn.metrics import f1_score\n",
    "from sklearn.metrics import roc_curve, RocCurveDisplay\n",
    "from sklearn.metrics import roc_auc_score\n",
    "from sklearn.model_selection import GridSearchCV, train_test_split, RandomizedSearchCV\n",
    "from tqdm import tqdm \n",
    "from sklearn.metrics import confusion_matrix, ConfusionMatrixDisplay\n",
    "from sklearn.metrics import make_scorer, f1_score\n"
   ]
  },
  {
   "cell_type": "markdown",
   "metadata": {},
   "source": [
    "<p style=\"font-size:15px;\">FUNÇÃO BLABLABLA EXPLICA </p>"
   ]
  },
  {
   "cell_type": "code",
   "execution_count": 491,
   "metadata": {},
   "outputs": [],
   "source": [
    "def calculate_metrics_classification(model_name, model_instance, X_train, y_train, X_test, y_test):\n",
    "    \"\"\"\n",
    "    Calculate evaluation metrics for a trained model.\n",
    "\n",
    "    :param model_name: Name of the model (e.g., \"Random Forest\").\n",
    "    :param model_instance: The trained model instance.\n",
    "    :param X_train: Training features as a numpy array.\n",
    "    :param y_train: Training labels for a single target variable.\n",
    "    :param X_test: Test features as a numpy array.\n",
    "    :param y_test: Test labels for a single target variable.\n",
    "    :return: A dictionary containing evaluation metrics and predictions.\n",
    "    \"\"\"\n",
    "    train_acc = model_instance.score(X_train, y_train)\n",
    "    test_acc = model_instance.score(X_test, y_test)\n",
    "\n",
    "    y_test_pred = model_instance.predict(X_test)\n",
    "    y_train_pred = model_instance.predict(X_train)\n",
    "\n",
    "    if model_name == 'SVC':\n",
    "        y_scores = model_instance.decision_function(X_test)\n",
    "    else:\n",
    "        y_scores = model_instance.predict_proba(X_test)[:, 1]\n",
    "    f1_scorer = make_scorer(f1_score)\n",
    "\n",
    "    f1_cv = cross_val_score(estimator=model_instance, X=X_train, y=y_train, cv=10, scoring = f1_scorer)\n",
    "\n",
    "    metrics = {\n",
    "        \"Train Accuracy\": train_acc,\n",
    "        \"Test Accuracy\": test_acc,\n",
    "        \"CV F1 mean\": np.mean(f1_cv),\n",
    "        \"CV F1 std\": np.std(f1_cv),\n",
    "        \"Precision\": precision_score(y_test, y_test_pred),\n",
    "        \"Recall\": recall_score(y_test, y_test_pred),\n",
    "        \"Specificity\": recall_score(y_test, y_test_pred, pos_label=0),\n",
    "        \"F1 Score\": f1_score(y_test, y_test_pred),\n",
    "        \"Area under ROC curve\": roc_auc_score(y_test, y_scores),\n",
    "    }\n",
    "\n",
    "    # Plot ROC curve\n",
    "    RocCurveDisplay.from_predictions(y_test, y_scores)\n",
    "\n",
    "    return metrics"
   ]
  },
  {
   "cell_type": "markdown",
   "metadata": {},
   "source": [
    "<p style=\"font-size:15px;\">EXPLICA BLABLA  </p>"
   ]
  },
  {
   "cell_type": "code",
   "execution_count": 518,
   "metadata": {},
   "outputs": [],
   "source": [
    "#MUDAR!!!!!!!!1\n",
    "def train_and_evaluate_multi_models(\n",
    "    models: Dict[str, any],\n",
    "    X_train: np.ndarray,\n",
    "    Y_train: pd.Series,\n",
    "    X_test: np.ndarray,\n",
    "    Y_test: pd.Series,\n",
    "    calculate_metrics_function\n",
    ") -> Dict[str, Dict[str, any]]:\n",
    "    \"\"\"\n",
    "    Train and evaluate multiple machine learning models for a single target variable.\n",
    "\n",
    "    This function trains and evaluates each model in the provided dictionary for the\n",
    "    given target variable in Y_train and Y_test.\n",
    "\n",
    "    :param models: A dictionary where keys are model names and values are model instances.\n",
    "    :param X_train: Training features as a numpy array.\n",
    "    :param Y_train: Training labels as a pandas Series (single column).\n",
    "    :param X_test: Test features as a numpy array.\n",
    "    :param Y_test: Test labels as a pandas Series (single column).\n",
    "    :param calculate_metrics_function: Function to calculate performance metrics for a model.\n",
    "    :return: A dictionary associating model names to their metrics and instances.\n",
    "    \"\"\"\n",
    "    results = {}\n",
    "\n",
    "    for model_name, model_instance in models.items():\n",
    "        # Train the model\n",
    "        model_instance.fit(X_train, Y_train)\n",
    "\n",
    "        # Calculate metrics\n",
    "        metrics = calculate_metrics_function(\n",
    "            model_name, model_instance, X_train, Y_train, X_test, Y_test\n",
    "        )\n",
    "\n",
    "        # Store metrics and model instance in results\n",
    "        results[model_name] = {\n",
    "            \"metrics\": metrics,\n",
    "            \"instance\": model_instance,\n",
    "        }\n",
    "\n",
    "    return results"
   ]
  },
  {
   "cell_type": "markdown",
   "metadata": {},
   "source": [
    "<p style=\"font-size:15px;\"> EXPLICA </p>"
   ]
  },
  {
   "cell_type": "code",
   "execution_count": 497,
   "metadata": {},
   "outputs": [],
   "source": [
    "#MUDAR!!!!!!!!1\n",
    "\n",
    "def Grid_search(model: Tuple[str, any], param_grid: dict, X_train: np.ndarray, Y_train: np.ndarray, X_test: np.ndarray, Y_test: np.ndarray) -> tuple:\n",
    "    \"\"\"\n",
    "    Perform hyperparameter tuning using GridSearchCV and evaluate a machine learning model for multiple target variables.\n",
    "\n",
    "    This function uses GridSearchCV to find the best hyperparameters for a given model, \n",
    "    then trains and evaluates the model for each target variable in Y_train and Y_test using cross-validation.\n",
    "\n",
    "    :param model: A tuple containing the model name as a string and the model instance.\n",
    "                  Example: ('Linear Regression', LinearRegression())\n",
    "                  The model instance should be an object from scikit-learn or a similar library.\n",
    "    :param param_grid: A dictionary with parameter names as keys and lists of parameter settings to try as values.\n",
    "                       Example: {'alpha': [0.1, 1, 10], 'fit_intercept': [True, False]} \n",
    "                       Each key is a hyperparameter name, and each value is a list of possible values for that hyperparameter.\n",
    "    :param X_train: Training features as a numpy array (n_samples, n_features).\n",
    "    :param Y_train: Training labels as a numpy array (n_samples, n_targets). It can have multiple columns for multiple target variables.\n",
    "    :param X_test: Test features as a numpy array (n_samples, n_features).\n",
    "    :param Y_test: Test labels as a numpy array (n_samples, n_targets). It can have multiple columns for multiple target variables.\n",
    "    :return: A tuple containing two elements:\n",
    "             - A DataFrame with performance metrics for each target variable.\n",
    "             - A list of dictionaries with the best models and their corresponding targets and parameters.\n",
    "    \"\"\"\n",
    "    model_name, model_instance = model\n",
    "    metrics_list = []\n",
    "    best_models_list = []\n",
    "    \n",
    "     # Iterate over each target variable (column in Y_train and Y_test)\n",
    "    for i in  tqdm(range(Y_train.shape[1])):\n",
    "        y_train = Y_train.iloc[:, i]  # Seleciona a coluna i do DataFrame\n",
    "        y_test = Y_test.iloc[:, i]    # Seleciona a coluna i do DataFrame\n",
    "        target_name = Y_train.columns[i]\n",
    "    # Ajustar hiperparâmetros para cada targ\n",
    "        best_models = {}\n",
    "    # Configurar o GridSearchCV\n",
    "        \n",
    "        grid_search = GridSearchCV(\n",
    "            estimator=model_instance,\n",
    "            param_grid=param_grid,\n",
    "            scoring='f1',\n",
    "            cv=5,\n",
    "            n_jobs=-1)\n",
    "    \n",
    "    # Treinar o GridSearchCV\n",
    "        grid_search.fit(X_train, y_train)\n",
    "    \n",
    "    # Melhor modelo para o target atual\n",
    "        best_model = grid_search.best_estimator_\n",
    "        best_models_list.append({\"Target\": target_name, \"Model\": best_model})\n",
    "\n",
    "       \n",
    "        metrics = calculate_metrics_classification(model_name, best_model, X_train, y_train, X_test, y_test)\n",
    "        metrics[\"Target\"] = target_name \n",
    "        metrics [\"Best Parameters\"] = grid_search.best_params_\n",
    "        metrics_list.append(metrics)\n",
    "        \n",
    "    metrics = pd.DataFrame(metrics_list)\n",
    "    metrics = metrics.set_index(\"Target\")\n",
    "        \n",
    "    return metrics, best_models_list\n"
   ]
  },
  {
   "cell_type": "markdown",
   "metadata": {},
   "source": [
    "<p style=\"font-size:15px;\"> explica </p>"
   ]
  },
  {
   "cell_type": "code",
   "execution_count": 500,
   "metadata": {},
   "outputs": [],
   "source": [
    "#MUDAR!!!!!!!!1\n",
    "\n",
    "def Confusion_matrix(models_list, X_test, Y_test):\n",
    "    \"\"\"\n",
    "    Generate and visualize confusion matrices for multiple target variables.\n",
    "\n",
    "    :param models_list: List of dictionaries containing the target name and model for that target.\n",
    "    :param X_test: Test features as a numpy array.\n",
    "    :param Y_test: Test labels as a pandas DataFrame (with multiple columns for multi-target problems).\n",
    "    \"\"\"\n",
    "    num_targets = len(best_models_list)\n",
    "    rows = (num_targets + 1) // 2  # Number of rows in the subplot grid\n",
    "\n",
    "    fig, axes = plt.subplots(rows, 2, figsize=(12, 4 * rows))\n",
    "    axes = axes.flatten()  # Flatten the axes array for easier indexing\n",
    "\n",
    "    for i, model_info in enumerate(best_models_list):\n",
    "        target_name = model_info[\"Target\"]\n",
    "        best_model = model_info[\"Model\"]\n",
    "\n",
    "        # Get true and predicted labels for the current target\n",
    "        y_true = Y_test[target_name]\n",
    "        y_pred = best_model.predict(X_test)\n",
    "\n",
    "        # Generate confusion matrix\n",
    "        cm = confusion_matrix(y_true, y_pred)\n",
    "        disp = ConfusionMatrixDisplay(confusion_matrix=cm, display_labels=best_model.classes_)\n",
    "\n",
    "        # Plot confusion matrix\n",
    "        disp.plot(ax=axes[i], cmap=plt.cm.Blues, colorbar=False)\n",
    "        axes[i].set_title(f'Matriz de Confusão para {target_name}')\n",
    "\n",
    "    # Hide any unused subplots\n",
    "    for j in range(i + 1, len(axes)):\n",
    "        fig.delaxes(axes[j])\n",
    "\n",
    "    plt.tight_layout()  # Adjust layout for better visualization\n",
    "    plt.show()"
   ]
  },
  {
   "cell_type": "markdown",
   "metadata": {},
   "source": [
    "<p style=\"font-size:15px;\"> EXPLICA </p>"
   ]
  },
  {
   "cell_type": "markdown",
   "metadata": {},
   "source": [
    "<h4>3.1 Hinselmann </h4>"
   ]
  },
  {
   "cell_type": "code",
   "execution_count": 488,
   "metadata": {
    "scrolled": true
   },
   "outputs": [],
   "source": [
    "from sklearn.ensemble import RandomForestClassifier\n",
    "from tabulate import tabulate\n",
    "\n",
    "#models = {'Random Forest': RandomForestClassifier(random_state=42, class_weight='balanced'),'SVC':SVC(class_weight='balanced'),'Logistic Regression':LogisticRegression()} \n",
    "\n",
    "# Treinar e avaliar\n",
    "#model_metrics = train_and_evaluate_multi_target(models, X_train, y_train, X_test, y_test)\n",
    "\n",
    "#model_metrics #é um dicionário que tem {nome: [df com as métricas, model instance], ...} para os três modelos \n"
   ]
  },
  {
   "cell_type": "code",
   "execution_count": 474,
   "metadata": {},
   "outputs": [],
   "source": [
    "#Inserir a Função que mostra a evolução da accuracy para cada modelo, para avaliar o overfitting"
   ]
  },
  {
   "cell_type": "code",
   "execution_count": 484,
   "metadata": {},
   "outputs": [],
   "source": [
    "param_grid_rf = {\n",
    "    'n_estimators': [100, 300],          # Número de árvores\n",
    "    'max_depth': [10, 20],         # Profundidade máxima\n",
    "    'min_samples_split': [2, 5, 10],    # Divisão mínima válida\n",
    "    'min_samples_leaf': [1, 2, 4],      # Tamanho mínimo da folha\n",
    "}\n",
    "\n",
    "# incluir parametros de todos os modelos para esta variavel\n",
    "\n",
    "#metrics, best_models_list = Grid_search(random_forest, param_grid, X_train, y_train, X_test, y_test)\n",
    "#metrics, best_models_list = Grid_search(SVC, param_grid, X_train, y_train, X_test, y_test)\n",
    "#metrics, best_models_list = Grid_search(LinearRegression, param_grid, X_train, y_train, X_test, y_test)\n",
    "#Alterar a função para um modelo e uma variavel só \n",
    "\n",
    "\n",
    " #explicar para apenas uma delas, o raciocinio, para nao ficar demasiado longo\n"
   ]
  },
  {
   "cell_type": "code",
   "execution_count": null,
   "metadata": {},
   "outputs": [],
   "source": [
    "#Inserir a explicação ou exemplo de um seguimento de GridSearch "
   ]
  },
  {
   "cell_type": "code",
   "execution_count": 480,
   "metadata": {},
   "outputs": [],
   "source": [
    "# Definir o grid de parâmetros com valores válidos\n",
    "param_grid_rf = {\n",
    "    'n_estimators': [100, 200],\n",
    "    'max_depth': [None, 20, 30],\n",
    "    'min_samples_split': [2, 10, 20],\n",
    "    'min_samples_leaf': [1, 4, 8],\n",
    "    'max_features': [None, 'sqrt', 'log2']\n",
    "}\n",
    "#Incluir valores finais de parametros,\n",
    "\n",
    "#metrics, best_models_list = Grid_search(random_forest, param_grid, X_train, y_train, X_test, y_test)\n",
    "#metrics, best_models_list = Grid_search(SVC, param_grid, X_train, y_train, X_test, y_test)\n",
    "#metrics, best_models_list = Grid_search(Logistic, param_grid, X_train, y_train, X_test, y_test)\n",
    "\n",
    "\n"
   ]
  },
  {
   "cell_type": "code",
   "execution_count": 490,
   "metadata": {},
   "outputs": [],
   "source": [
    "#Plot de duas matrizes de confusão inicial e final para comparação \n",
    "\n",
    "#Confusion_matrix(best_models_list, X_test, y_test) \n"
   ]
  },
  {
   "cell_type": "markdown",
   "metadata": {},
   "source": [
    "<h4>3.2 - Schiller</h4>"
   ]
  },
  {
   "cell_type": "code",
   "execution_count": null,
   "metadata": {},
   "outputs": [],
   "source": [
    "\n"
   ]
  },
  {
   "cell_type": "markdown",
   "metadata": {},
   "source": [
    "<h4>3.3 - Citology</h4>"
   ]
  },
  {
   "cell_type": "code",
   "execution_count": null,
   "metadata": {},
   "outputs": [],
   "source": [
    "\n",
    "\n"
   ]
  },
  {
   "cell_type": "code",
   "execution_count": null,
   "metadata": {},
   "outputs": [],
   "source": []
  },
  {
   "cell_type": "code",
   "execution_count": null,
   "metadata": {},
   "outputs": [],
   "source": []
  },
  {
   "cell_type": "code",
   "execution_count": null,
   "metadata": {},
   "outputs": [],
   "source": []
  },
  {
   "cell_type": "markdown",
   "metadata": {},
   "source": [
    "<h4>3.4 - Biopsy </h4>"
   ]
  },
  {
   "cell_type": "code",
   "execution_count": null,
   "metadata": {},
   "outputs": [],
   "source": []
  },
  {
   "cell_type": "markdown",
   "metadata": {},
   "source": [
    " <h3>4. Result evaluation</h3>"
   ]
  },
  {
   "cell_type": "code",
   "execution_count": null,
   "metadata": {},
   "outputs": [],
   "source": [
    "#discutir os resultados em si, avaliação de matrizes e merdas"
   ]
  },
  {
   "cell_type": "markdown",
   "metadata": {},
   "source": [
    " <h3>5. Discussion</h3>"
   ]
  },
  {
   "cell_type": "code",
   "execution_count": null,
   "metadata": {},
   "outputs": [],
   "source": [
    "#Barreiras, obstaculos e metodos de superação "
   ]
  },
  {
   "cell_type": "markdown",
   "metadata": {},
   "source": [
    " <h3>6. Model test (onde fazemos o questionário para mostrar a aplicação do nosso modelo</h3>"
   ]
  },
  {
   "cell_type": "code",
   "execution_count": null,
   "metadata": {},
   "outputs": [],
   "source": []
  }
 ],
 "metadata": {
  "kernelspec": {
   "display_name": "Python 3 (ipykernel)",
   "language": "python",
   "name": "python3"
  },
  "language_info": {
   "codemirror_mode": {
    "name": "ipython",
    "version": 3
   },
   "file_extension": ".py",
   "mimetype": "text/x-python",
   "name": "python",
   "nbconvert_exporter": "python",
   "pygments_lexer": "ipython3",
   "version": "3.12.4"
  },
  "vscode": {
   "interpreter": {
    "hash": "ee3b8b0f13ce1b575702cf6f1b3dd3d8df18dc5f202e0bca1f4b2f664d388be6"
   }
  }
 },
 "nbformat": 4,
 "nbformat_minor": 4
}
